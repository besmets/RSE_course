{
  "nbformat": 4,
  "nbformat_minor": 0,
  "metadata": {
    "colab": {
      "provenance": [],
      "authorship_tag": "ABX9TyOR4L/Mjd5Gjbz+75ZoW9GD",
      "include_colab_link": true
    },
    "kernelspec": {
      "name": "python3",
      "display_name": "Python 3"
    },
    "language_info": {
      "name": "python"
    }
  },
  "cells": [
    {
      "cell_type": "markdown",
      "metadata": {
        "id": "view-in-github",
        "colab_type": "text"
      },
      "source": [
        "<a href=\"https://colab.research.google.com/github/besmets/RSE_course/blob/main/RSE_Lecture_02_GIF_Animation.ipynb\" target=\"_parent\"><img src=\"https://colab.research.google.com/assets/colab-badge.svg\" alt=\"Open In Colab\"/></a>"
      ]
    },
    {
      "cell_type": "markdown",
      "source": [
        "-----------------\n",
        "# FRAMES TO GIF\n",
        "------------------\n",
        "**Author:** B. SMETS  \n",
        "**Affiliations:** Vrije Universiteit Brussel / Royal Museum for Central Africa  \n",
        "**Version:** 0.1  \n",
        "**Year:** 2022  \n",
        "\n",
        "------------------"
      ],
      "metadata": {
        "id": "Pr-QaGkhP1lx"
      }
    },
    {
      "cell_type": "code",
      "source": [
        "import glob\n",
        "from PIL import Image\n",
        "from google.colab import drive\n",
        "from google.colab import files"
      ],
      "metadata": {
        "id": "NAFYcWZkQhc2"
      },
      "execution_count": 3,
      "outputs": []
    },
    {
      "cell_type": "code",
      "source": [
        "# 1. LOAD GOOGLE DRIVE\n",
        "\n",
        "drive.mount('/content/gdrive')\n",
        "  # This line will ask you the permission to connect to your Google Drive. Follow the steps to grant the access.\n",
        "\n",
        "lecture02_path = 'gdrive/My Drive/__RSE_colab_data/Lecture_02'\n",
        "  # Change directory path to the one where the image frames are saved!"
      ],
      "metadata": {
        "colab": {
          "base_uri": "https://localhost:8080/"
        },
        "id": "CRJZJADdQlB7",
        "outputId": "d22d16d4-712c-4325-cab7-95e02553282f"
      },
      "execution_count": 4,
      "outputs": [
        {
          "output_type": "stream",
          "name": "stdout",
          "text": [
            "Mounted at /content/gdrive\n"
          ]
        }
      ]
    },
    {
      "cell_type": "code",
      "source": [
        "# 2. SETUP AREA (area where you have to hard code your GIF parameters)\n",
        "# ====================================================================\n",
        "\n",
        "# Locate the folder where the frames are stored (with / or // at the end)\n",
        "frames_folder = lecture02_path\n",
        "\n",
        "# Specify the image format used (! Case sensitive)\n",
        "frame_format = '*.jpg'\n",
        "\n",
        "# Select you frame rate for the gif animation\n",
        "sec_per_frame = 1.0   # in second (decimal number)\n",
        "\n",
        "# Select the output resolution (dpi)\n",
        "resolution = 150\n",
        "\n",
        "# Choose a name for your gif file\n",
        "name = 'goes17_Tonga2022_gif_1fps'\n",
        "\n",
        "# Locate your output folder (with / or // at the end)\n",
        "output_folder = f\"{lecture02_path}/GIF/\"\n",
        "\n",
        "# =========================== END OF SETUP ==========================="
      ],
      "metadata": {
        "id": "YXZnsPGuRIUu"
      },
      "execution_count": null,
      "outputs": []
    },
    {
      "cell_type": "code",
      "source": [
        "# 3. GIF CREATION\n",
        "# ====================================================================\n",
        "\n",
        "# List the images\n",
        "frame_list = sorted(glob.glob(frames_folder + frame_format))\n",
        "\n",
        "# Count the number of images\n",
        "frame_nbr = len(frame_list)\n",
        "\n",
        "# Define the duration based on frame rate and image number\n",
        "gif_duration = int(sec_per_frame*frame_nbr*100)\n",
        "\n",
        "# Define the output GIF\n",
        "gif_name = output_folder + name + '.gif'\n",
        "\n",
        "# Define the make gif function\n",
        "def make_gif(folder):\n",
        "    frames = [Image.open(image).convert(\"P\",palette=Image.ADAPTIVE) for image in frame_list]\n",
        "    frame_one = frames[0]\n",
        "    frame_one.save(gif_name, format=\"GIF\", dpi=(resolution, resolution), optimize=False, append_images=frames,\n",
        "               save_all=True, duration=gif_duration, loop=0)\n",
        "\n",
        "# Launch the processing!\n",
        "\n",
        "print('=====================================================================')\n",
        "print('=                     GIF CREATION USING PYTHON                     =')\n",
        "print('=====================================================================')\n",
        "print('(c) B. Smets, RMCA/VUB  |  Version 0.1, January 2022')\n",
        "print(' ')\n",
        "print(' ')\n",
        "print('- Number of frames to process = ' + str(frame_nbr) + ' images')\n",
        "print('- Frame per second = ' + str(1/sec_per_frame))\n",
        "print(' ')\n",
        "print('--> Now processing...')\n",
        "print(' ')\n",
        "make_gif(frames_folder)\n",
        "print(\"Processing finished successfully! (Hopefully)\")"
      ],
      "metadata": {
        "id": "nsEnJ-aXSM9j"
      },
      "execution_count": null,
      "outputs": []
    }
  ]
}