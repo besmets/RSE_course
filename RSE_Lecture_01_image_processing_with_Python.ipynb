{
  "nbformat": 4,
  "nbformat_minor": 0,
  "metadata": {
    "colab": {
      "provenance": [],
      "toc_visible": true,
      "authorship_tag": "ABX9TyPcRyitSLQhdUAk3GTC12tp",
      "include_colab_link": true
    },
    "kernelspec": {
      "name": "python3",
      "display_name": "Python 3"
    },
    "language_info": {
      "name": "python"
    }
  },
  "cells": [
    {
      "cell_type": "markdown",
      "metadata": {
        "id": "view-in-github",
        "colab_type": "text"
      },
      "source": [
        "<a href=\"https://colab.research.google.com/github/besmets/RSE_course/blob/main/RSE_Lecture_01_image_processing_with_Python.ipynb\" target=\"_parent\"><img src=\"https://colab.research.google.com/assets/colab-badge.svg\" alt=\"Open In Colab\"/></a>"
      ]
    },
    {
      "cell_type": "markdown",
      "source": [
        "# REMOTE SENSING OF THE ENVIRONMENT - LECTURE 1\n",
        "# Introduction to raster images and image manipulation with Python\n",
        "(c) Vrije Universiteit Brussel, Prof. Dr. Benoît SMETS - 2023-2024\n",
        "\n",
        "------------\n",
        "<br>\n",
        "\n",
        "### Objectives of this tutorial:\n",
        "1. TOOL: Learn how to use notebooks and Google Colab\n",
        "2. TOOL: Learn basic Python functions to manipulate (geospatial) raster images;  \n",
        "3. PROCESSING: Discover the effect(s) of image characteristics on image processing.\n",
        "\n",
        "### PREREQUISITES\n",
        "- Computer with internet connection and web browser.\n",
        "- Google GMAIL account.\n",
        "\n",
        "<br>\n",
        "To make this tutorial work, you have to systematically run all cells containing code lines, from the first to the last one (Type SHIFT+ENTER to run a cell).  \n",
        "\n",
        "<br>\n",
        "\n",
        "------------"
      ],
      "metadata": {
        "id": "HQjGN2zFj3Ci"
      }
    },
    {
      "cell_type": "markdown",
      "source": [
        "## PART 1: Google Colab, notebooks and Python\n",
        "\n",
        "To start using this notebook, start by copying it on your drive.  \n",
        "--> On the upper toolbar, **click on \"Copy to Drive\"**.  \n",
        "\n",
        "Next, we need to access the data we will use on you Google Drive, so you can access them directly in the notebook. To do this, we will use Google Drive.  \n",
        "\n",
        "Follow these steps:  \n",
        "\n",
        "1) In the [GitHub repository of the RSE course](https://github.com/besmets/RSE_course), copy the URL of the folder where the exercise data are stored.  \n",
        "2) Open https://download-directory.github.io/ and past the URL. Hit Enter. The folder containing the data is downloaded as a zip file.  \n",
        "3) Unzip the file and move it to your Google Drive.  \n",
        "\n",
        "Now, use Python to mount Google Drive (STEP 1) and create a ***variable*** corresponding to the directory path where the data are located (STEP 2).\n"
      ],
      "metadata": {
        "id": "1moBh0l2qyaN"
      }
    },
    {
      "cell_type": "code",
      "source": [
        "# import useful packages and functions\n",
        "from google.colab import drive\n",
        "from google.colab import files\n",
        "\n",
        "# STEP 1\n",
        "drive.mount('/content/gdrive')\n",
        "  # This line will ask you the permission to connect to your Google Drive. Follow the steps to grant the access.\n",
        "\n",
        "# STEP 2\n",
        "lecture01_path = 'gdrive/My Drive/__RSE_colab_data/Lecture_01'\n",
        "  # Change directory path to the one of your project folder!"
      ],
      "metadata": {
        "id": "_fXzyDhVqw5O",
        "colab": {
          "base_uri": "https://localhost:8080/"
        },
        "outputId": "779efd8b-873a-4d51-c01a-4e9d64168b3e"
      },
      "execution_count": null,
      "outputs": [
        {
          "output_type": "stream",
          "name": "stdout",
          "text": [
            "Drive already mounted at /content/gdrive; to attempt to forcibly remount, call drive.mount(\"/content/gdrive\", force_remount=True).\n"
          ]
        }
      ]
    },
    {
      "cell_type": "markdown",
      "source": [
        "You are now ready to start using Google Colab for this lecture. Let's play with images!\n",
        "\n",
        "(end of Part 1)\n",
        "<br>\n",
        "-----------------"
      ],
      "metadata": {
        "id": "c6Ctco0iof9V"
      }
    },
    {
      "cell_type": "markdown",
      "source": [
        "## PART 2: Introduction to image visualisation with Python"
      ],
      "metadata": {
        "id": "yBYzAm2qrcs6"
      }
    },
    {
      "cell_type": "markdown",
      "source": [
        "### 2.1.  Opening and displaying an image"
      ],
      "metadata": {
        "id": "rJycylZC3zSb"
      }
    },
    {
      "cell_type": "markdown",
      "source": [
        "Several Python packages exist to read images. We will now test some of them to understand how to handle such type of data with Python, and we will display these images in different ways.  \n",
        "\n",
        "**Opening and diplaying a simple JPEG image with matplotlib**  \n",
        "A simple way to read and display an image is to use de popular plotting package MATPLOTLIB  \n",
        "<span style=\"color:Gray\">*(further information on matplotlib --> https://matplotlib.org/)*</span>"
      ],
      "metadata": {
        "id": "EZr5HHlc4Jai"
      }
    },
    {
      "cell_type": "code",
      "source": [
        "# First, load the useful matplotlib modules\n",
        "import matplotlib.image as mpimg\n",
        "import matplotlib.pyplot as plt\n",
        "\n",
        "# Load the image (adapt the directory path!)\n",
        "directory = f\"{lecture01_path}/JPG/\"\n",
        "image_name = 'VUB_logo.jpg'\n",
        "image_path = f\"{directory}{image_name}\"\n",
        "image_matplotlib = mpimg.imread(image_path)\n",
        "\n",
        "# Display the loaded image\n",
        "plt.imshow(image_matplotlib)"
      ],
      "metadata": {
        "id": "vgobv4K1rutz"
      },
      "execution_count": null,
      "outputs": []
    },
    {
      "cell_type": "markdown",
      "source": [
        "**Opening and displaying a simple JPEG image with Pillow (PIL)**  \n",
        "Let's now use a package more specifically dedicated to images!  \n",
        "<span style=\"color:Gray\">*(further information on Pillow --> https://python-pillow.org/)*</span>"
      ],
      "metadata": {
        "id": "VC0girum5FkB"
      }
    },
    {
      "cell_type": "code",
      "source": [
        "# First, load the useful Pillow module\n",
        "from PIL import Image\n",
        "\n",
        "# Load the image\n",
        "directory = f\"{lecture01_path}/JPG/\"\n",
        "image_name = 'VUB_logo.jpg'\n",
        "image_path = f\"{directory}{image_name}\"\n",
        "image_pil = Image.open(image_path)\n",
        "\n",
        "# Display the loaded image\n",
        "display(image_pil) # To display within the jupyter notebook\n",
        "#image.show()  # To display in a separate window"
      ],
      "metadata": {
        "id": "sNnKFlRR5IJG"
      },
      "execution_count": null,
      "outputs": []
    },
    {
      "cell_type": "markdown",
      "source": [
        "**Opening and displaying a simple JPEG image with OpenCV (cv2)**  \n",
        "OpenCV is a very powerful software primarily dedicated to Computer Vision. It contains cutting-age tools and algorithms for image processing, like template-mathcing techniques used in digital image correlation (DIC; also called \"pixel-offset tracking\"). OpenCV can also be used for more basic image reading and processing.  \n",
        "<span style=\"color:Gray\">*(further information on OpenCV --> https://opencv.org/ and https://pypi.org/project/opencv-python/)*</span>"
      ],
      "metadata": {
        "id": "4Cv-w68K5bJx"
      }
    },
    {
      "cell_type": "code",
      "source": [
        "# First, load OpenCV\n",
        "import cv2\n",
        "import matplotlib.pyplot as plt  # used for the display, here\n",
        "\n",
        "# Load the image\n",
        "directory = f\"{lecture01_path}/JPG/\"\n",
        "image_name = 'VUB_logo.jpg'\n",
        "image_path = f\"{directory}{image_name}\"\n",
        "image_cv = cv2.imread(image_path)\n",
        "\n",
        "# Display the loaded image\n",
        "plt.imshow(image_cv)"
      ],
      "metadata": {
        "id": "1HjBv8Gv5fnG"
      },
      "execution_count": null,
      "outputs": []
    },
    {
      "cell_type": "markdown",
      "source": [
        "<span style=\"color:firebrick\">... oups! The image does display but the colors are weird.</span>  \n",
        "\n",
        "<span style=\"color:firebrick\">Do you have any clue on the reason why?</span>  \n",
        "\n",
        "<span style=\"color:firebrick\">*--> Try to find the answer and wait for instruction to fill in the code cell here below!*</span>   \n",
        "\n",
        "<br>\n",
        "\n",
        "**SOLUTION:**  "
      ],
      "metadata": {
        "id": "I09do7zL5uZi"
      }
    },
    {
      "cell_type": "code",
      "source": [],
      "metadata": {
        "id": "KKQijO_I5zcy"
      },
      "execution_count": null,
      "outputs": []
    },
    {
      "cell_type": "markdown",
      "source": [
        "### 2.2.  Reading image metadata"
      ],
      "metadata": {
        "id": "BMP1FVTW6KFN"
      }
    },
    {
      "cell_type": "markdown",
      "source": [
        "Displaying an image with Python is a first step, but we need to do more. An important step usually performed is to read the characteristics of images, e.g., their dimensions, resolution, pixel depth/encoding, etc.  \n",
        "\n",
        "Here, we will see how to do it with the logo of the VUB, and more specifically how to extract useful values that can be used in our processing afterwards.  \n",
        "\n",
        "**Reading image dimensions**"
      ],
      "metadata": {
        "id": "sBeaPuSI6T9x"
      }
    },
    {
      "cell_type": "code",
      "source": [
        "# With pillow\n",
        "width, height = image_pil.size\n",
        "print('Image width with Pillow  : ' + str(width))\n",
        "print('Image height with Pollow : ' + str(height))\n",
        "print('--------------------------------------------------')\n",
        "\n",
        "# With OpenCV\n",
        "dimensions = image_cv.shape\n",
        "height = image_cv.shape[0]\n",
        "width = image_cv.shape[1]\n",
        "bands = image_cv.shape[2]\n",
        "print('Image dimensions with OpenCV      : ', dimensions)\n",
        "print('Image width with OpenCV           : ', width)\n",
        "print('Image height with OpenCV          : ', height)\n",
        "print('Number of image bands with OpenCV : ', bands)"
      ],
      "metadata": {
        "id": "gT004uxi6cA3"
      },
      "execution_count": null,
      "outputs": []
    },
    {
      "cell_type": "markdown",
      "source": [
        "**Reading image metadata**  \n",
        "Images usually contain metadata with useful information. Let's see what it looks like..."
      ],
      "metadata": {
        "id": "4cEqpY7X6knp"
      }
    },
    {
      "cell_type": "code",
      "source": [
        "# Import the missing Pillow module\n",
        "from PIL.ExifTags import TAGS\n",
        "\n",
        "# Select a photograph, this time\n",
        "photo_name = 'DSC_0907.JPG'\n",
        "photo = Image.open(directory + photo_name)\n",
        "\n",
        "# Extracting EXIF data\n",
        "exifdata = photo.getexif()\n",
        "\n",
        "# Make the EXIF info readable\n",
        "for tag_id in exifdata:\n",
        "    # get the tag name\n",
        "    tag = TAGS.get(tag_id, tag_id)\n",
        "    data = exifdata.get(tag_id)\n",
        "    # decode bytes\n",
        "    if isinstance(data, bytes):\n",
        "        data = data.decode()\n",
        "    print(f\"{tag:25}: {data}\")"
      ],
      "metadata": {
        "id": "zMnPNzkn6oEh"
      },
      "execution_count": null,
      "outputs": []
    },
    {
      "cell_type": "markdown",
      "source": [
        "Try to understand the meaning of the diplayed parameters!  \n",
        "- What is the difference between ***width/length*** and ***XResolution/YResolution***?\n",
        "- What does the ***datetime*** mean?\n",
        "- What does the ***BitsPerSample*** mean?"
      ],
      "metadata": {
        "id": "k4J5qtce6uoC"
      }
    },
    {
      "cell_type": "markdown",
      "source": [
        "### 2.3.  Opening and displaying geospatial imagery"
      ],
      "metadata": {
        "id": "3IYvwupd7Ney"
      }
    },
    {
      "cell_type": "markdown",
      "source": [
        "Before opening geospatial images, it is necessary to install useful python packages that are not necessarily available in the colab environment.  "
      ],
      "metadata": {
        "id": "1vt_TAC0-5gs"
      }
    },
    {
      "cell_type": "code",
      "source": [
        "%pip install rasterio\n",
        "%pip install georasters\n",
        "%pip install earthpy\n",
        "%pip install glob2"
      ],
      "metadata": {
        "id": "rWeyt8Nf_NkK"
      },
      "execution_count": null,
      "outputs": []
    },
    {
      "cell_type": "markdown",
      "source": [
        "**a) GDAL** (https://gdal.org/index.html; https://gdal.org/python/index.html)\n",
        "\n",
        "GDAL (<u>G</u>eospatial <u>D</u>ata <u>A</u>bstraction <u>L</u>ibrary) is a translator library for raster and vector geospatial data formats. Actually, it is two libraries – GDAL for manipulating geospatial raster data and OGR for manipulating geospatial vector data – but we’ll refer to the entire package as the GDAL library. It also comes with a variety of useful command line utilities for data translation and processing.  \n",
        "\n",
        "GDAL is a reference library for basic geospatial raster manipulation and processing. This is the library that is actually behind the main raster functions of QGIS. A GDAL Python module exists and can be used ast it. Another option is to call directly GDAL by launching a command line in a terminal (or command prompt) via a Python script and with the help of the 'subprocess' module *(not shown here)*.  "
      ],
      "metadata": {
        "id": "E26HexTR7cvq"
      }
    },
    {
      "cell_type": "code",
      "source": [
        "# Import the packages\n",
        "import matplotlib.pyplot as plt\n",
        "from osgeo import gdal\n",
        "\n",
        "# Load image and specify the band (even if only one band)\n",
        "directory_geo = f'{lecture01_path}/CumbreVieja/'\n",
        "img_name = 'LC08_L1TP_208040_20210926_20211001_01_T1_B5.TIF'\n",
        "img = gdal.Open(f\"{directory_geo}{img_name}\")\n",
        "img_band = img.GetRasterBand(1)\n",
        "\n",
        "# Read the image band as a Numpy array\n",
        "band_array = img.ReadAsArray()\n",
        "\n",
        "# Plot the array image\n",
        "fig = plt.figure()\n",
        "plt.imshow(band_array, cmap='gray')   # The 'cmap' argument allows you to change the colormap used to display the image (default cmap = 'viridis')\n",
        "plt.show()"
      ],
      "metadata": {
        "id": "096iEccE7n0q"
      },
      "execution_count": null,
      "outputs": []
    },
    {
      "cell_type": "markdown",
      "source": [
        "**b) Rasterio** (https://rasterio.readthedocs.io/en/latest/)\n",
        "\n",
        "Rasterio is based on GDAL and strongly simplifies the manipulation and display of geospatial raster images. It is a key module for geospatial raster manipulation with Python."
      ],
      "metadata": {
        "id": "5KxsKlZQ9J6d"
      }
    },
    {
      "cell_type": "code",
      "source": [
        "# Import the packages\n",
        "import rasterio as rio\n",
        "from rasterio.plot import show\n",
        "\n",
        "# Load the image\n",
        "directory_geo = f'{lecture01_path}/CumbreVieja/'\n",
        "img_name = 'LC08_L1TP_208040_20210926_20211001_01_T1_B5.TIF'\n",
        "img = rio.open(f\"{directory_geo}{img_name}\", 'r')   # 'r' is for 'reading mode'. It is a default argument and, consequently, it is optional to cite it in the line of code.\n",
        "\n",
        "# Display the image\n",
        "show(img, cmap='inferno')   # The 'cmap' argument allows you to change the colormap used to display the image (default cmap = 'viridis')\n",
        "    # LOOK AT \"https://rasterio.readthedocs.io/en/latest/api/rasterio.plot.html?highlight=rasterio.show#\" FOR MORE OPTIONS!"
      ],
      "metadata": {
        "id": "UOUZATm39Nuw"
      },
      "execution_count": null,
      "outputs": []
    },
    {
      "cell_type": "markdown",
      "source": [
        "**c) Georasters** (https://georasters.readthedocs.io/en/latest/) *!!! This is not georaster (old module) !!!*"
      ],
      "metadata": {
        "id": "jlbaQ3yA-J_z"
      }
    },
    {
      "cell_type": "code",
      "source": [
        "# Import the packages\n",
        "import georasters as gr\n",
        "\n",
        "# Load the image\n",
        "directory_geo = f'{lecture01_path}/CumbreVieja/'\n",
        "img_name = 'LC08_L1TP_208040_20210926_20211001_01_T1_B5.TIF'\n",
        "img = gr.from_file(f\"{directory_geo}{img_name}\")\n",
        "\n",
        "# Display the image\n",
        "img.plot(cmap='gray')"
      ],
      "metadata": {
        "id": "RbHdAGop-O8z"
      },
      "execution_count": null,
      "outputs": []
    },
    {
      "cell_type": "markdown",
      "source": [
        "### 2.4.  Reading the metadata of geospatial images"
      ],
      "metadata": {
        "id": "KRBHwzTL_9Ea"
      }
    },
    {
      "cell_type": "markdown",
      "source": [
        "**First, let's read everything!**"
      ],
      "metadata": {
        "id": "7Qi4WJWdAE4X"
      }
    },
    {
      "cell_type": "code",
      "source": [
        "# Import useful module\n",
        "from osgeo import gdal\n",
        "\n",
        "# Image paths\n",
        "directory_geo = f'{lecture01_path}/CumbreVieja/'\n",
        "single_band = 'LC08_L1TP_208040_20210926_20211001_01_T1_B5.TIF'\n",
        "multi_band = 'landsat_stack.tif'\n",
        "\n",
        "# Load the single band image\n",
        "single_band_img = gdal.Open(f\"{directory_geo}{single_band}\")\n",
        "\n",
        "# Display all informations\n",
        "print(gdal.Info(single_band_img))"
      ],
      "metadata": {
        "id": "qrUmBqVDAIov"
      },
      "execution_count": null,
      "outputs": []
    },
    {
      "cell_type": "markdown",
      "source": [
        "**Now, let's select the information we are interested in!**"
      ],
      "metadata": {
        "id": "bRESnaO1CaIq"
      }
    },
    {
      "cell_type": "code",
      "source": [
        "# Load the single band image\n",
        "single_band_img = gdal.Open(f\"{directory_geo}{single_band}\")\n",
        "\n",
        "# Specify the layer (band in the image)\n",
        "selected_band = single_band_img.GetRasterBand(1)  # this seems useless, but a band must be specified for DataType\n",
        "\n",
        "## Extract the pixel resolution\n",
        "image_resolution = single_band_img.GetGeoTransform()\n",
        "pixX_image = image_resolution[1]\n",
        "pixY_image = -image_resolution[5]\n",
        "\n",
        "# Display the information\n",
        "print('Key information on the image')\n",
        "print('----------------------------')\n",
        "print(\"Driver = {}/{}\".format(single_band_img.GetDriver().ShortName,single_band_img.GetDriver().LongName))\n",
        "print(\"Size = {} x {} x {}\".format(single_band_img.RasterXSize,single_band_img.RasterYSize,single_band_img.RasterCount))\n",
        "print('X resolution = ' + str(pixX_image) + ' m')\n",
        "print('Y resolution = ' + str(pixY_image) + ' m')\n",
        "print('Pixel depth = {}'.format(gdal.GetDataTypeName(selected_band.DataType)))"
      ],
      "metadata": {
        "id": "bREhQsKpCdY8"
      },
      "execution_count": null,
      "outputs": []
    },
    {
      "cell_type": "markdown",
      "source": [
        "**Finally, let's read a multi-band image!**"
      ],
      "metadata": {
        "id": "M00_x2VODojI"
      }
    },
    {
      "cell_type": "code",
      "source": [
        "# Load the single band image\n",
        "multi_band_img = gdal.Open(f\"{directory_geo}{multi_band}\")\n",
        "\n",
        "# Specify any band to display the datatype\n",
        "selected_band = multi_band_img.GetRasterBand(1)  # this seems useless, but a band must be specified for DataType\n",
        "\n",
        "## Extract the pixel resolution\n",
        "image_resolution = multi_band_img.GetGeoTransform()\n",
        "pixX_image = image_resolution[1]\n",
        "pixY_image = -image_resolution[5]\n",
        "\n",
        "# Display the information\n",
        "print('Key information on the image')\n",
        "print('----------------------------')\n",
        "print(\"Driver = {}/{}\".format(multi_band_img.GetDriver().ShortName,multi_band_img.GetDriver().LongName))\n",
        "print(\"Size = {} x {} x {}\".format(multi_band_img.RasterXSize,multi_band_img.RasterYSize,multi_band_img.RasterCount))\n",
        "print('X resolution = ' + str(pixX_image) + ' m')\n",
        "print('Y resolution = ' + str(pixY_image) + ' m')\n",
        "print('Pixel depth = {}'.format(gdal.GetDataTypeName(selected_band.DataType)))"
      ],
      "metadata": {
        "id": "dgpC4jGHDtbZ"
      },
      "execution_count": null,
      "outputs": []
    },
    {
      "cell_type": "markdown",
      "source": [
        "More information here: https://automating-gis-processes.github.io/2016/Lesson7-read-raster.html  "
      ],
      "metadata": {
        "id": "WVZ-tromDa3y"
      }
    },
    {
      "cell_type": "markdown",
      "source": [
        "### 2.5.  Influence of pixel depth on file size"
      ],
      "metadata": {
        "id": "u0hN34tTEbuP"
      }
    },
    {
      "cell_type": "code",
      "source": [
        "import os\n",
        "from osgeo import gdal\n",
        "from osgeo import gdalconst\n",
        "\n",
        "\n",
        "# Load a Landsat band (UInt16)\n",
        "directory = f'{lecture01_path}/CumbreVieja/'\n",
        "single_band = 'LC08_L1TP_208040_20210926_20211001_01_T1_B5.TIF'\n",
        "input_image = f\"{directory}{single_band}\"\n",
        "\n",
        "\n",
        "# Create a UInt8 image (here, save the new image in the input folder!)\n",
        "output_image = f\"{directory}/band5_Byte.tif\"\n",
        "gdal.Translate(output_image, input_image, format='GTiff', outputType=gdalconst.GDT_Byte)\n",
        "\n",
        "# Display the file sizes\n",
        "file_size_UInt16 = os.path.getsize(input_image)\n",
        "file_size_Byte = os.path.getsize(output_image)\n",
        "print('-> UInt16 image = ' + str(round(file_size_UInt16/(1024*1024), 3)) + ' MB')\n",
        "print('-> Byte (or UInt8) image = ' + str(file_size_Byte) + ' B' + ' or ' + str(round(file_size_Byte/1024, 1)) + ' KB' + ' or ' + str(round(file_size_Byte/(1024*1024), 3)) + ' MB')"
      ],
      "metadata": {
        "colab": {
          "base_uri": "https://localhost:8080/"
        },
        "id": "H5lRKZnEEmD7",
        "outputId": "3126b7b8-f5d4-4a15-9014-51e2d723bdd5"
      },
      "execution_count": null,
      "outputs": [
        {
          "output_type": "stream",
          "name": "stdout",
          "text": [
            "-> UInt16 image = 1.669 MB\n",
            "-> Byte (or UInt8) image = 875020 B or 854.5 KB or 0.834 MB\n"
          ]
        }
      ]
    },
    {
      "cell_type": "markdown",
      "source": [
        "(end of Part 2)\n",
        "<br>\n",
        "-------------"
      ],
      "metadata": {
        "id": "5RX22FCE34D1"
      }
    },
    {
      "cell_type": "markdown",
      "source": [
        "## PART 3: Image Histogram, stretching and equalization"
      ],
      "metadata": {
        "id": "vvI7hfLHG8GS"
      }
    },
    {
      "cell_type": "markdown",
      "source": [
        "### 3.1.  Computing and displaying image histograms"
      ],
      "metadata": {
        "id": "Fx-TzoGDG-1r"
      }
    },
    {
      "cell_type": "code",
      "source": [
        "import rasterio as rio\n",
        "from rasterio.plot import show_hist\n",
        "import matplotlib.pyplot as plt\n",
        "\n",
        "# Image paths\n",
        "directory = f'{lecture01_path}/CumbreVieja/'\n",
        "single_band = 'LC08_L1TP_208040_20210926_20211001_01_T1_B5.TIF'\n",
        "multi_band = 'landsat_stack.tif'\n",
        "\n",
        "# Load the image\n",
        "img = rio.open(f\"{directory}{single_band}\")\n",
        "\n",
        "# Display the histogram\n",
        "fig, axhist = plt.subplots(1, 1)\n",
        "show_hist(source=img, bins=100, title='Histogram', histtype='stepfilled', alpha=0.5, ax=axhist)\n",
        "axhist.get_legend().remove() # used to remove the legend within the histogram"
      ],
      "metadata": {
        "id": "Buh6tAtwHFiW"
      },
      "execution_count": null,
      "outputs": []
    },
    {
      "cell_type": "code",
      "source": [
        "## Let's diplay a histogram for a multi-band image\n",
        "\n",
        "# Load the image\n",
        "multi_band_img = rio.open(f\"{directory}{multi_band}\")\n",
        "\n",
        "# Display the histogram\n",
        "fig, axhist = plt.subplots(1, 1)\n",
        "show_hist(source=multi_band_img, bins=100, stacked=False, title='Histogram', histtype='stepfilled', alpha=0.5, ax=axhist)\n",
        "axhist.get_legend().remove() # used to remove the legend within the histogram"
      ],
      "metadata": {
        "id": "_Qdo4HNKHf2D"
      },
      "execution_count": null,
      "outputs": []
    },
    {
      "cell_type": "code",
      "source": [
        "import cv2\n",
        "import matplotlib.pyplot as plt\n",
        "\n",
        "# Load the image and create a grayscale version\n",
        "jpg_directory = f'{lecture01_path}/JPG/'\n",
        "jpg_image = 'DSC_0907.JPG'\n",
        "bgr_image = cv2.imread(f\"{jpg_directory}{jpg_image}\")\n",
        "\n",
        "grayscale_image = cv2.cvtColor(bgr_image, cv2.COLOR_BGR2GRAY)\n",
        "\n",
        "# Let's define a histogram function for a grayscale image\n",
        "def draw_image_histogram(image, channels, color='k'):\n",
        "    hist = cv2.calcHist([image], channels, None, [256], [0, 256])\n",
        "    plt.plot(hist, color=color)\n",
        "    plt.xlim([0, 256])\n",
        "    plt.xlabel('DN')\n",
        "    plt.ylabel('Count')\n",
        "    plt.show()\n",
        "\n",
        "# display the histogram\n",
        "draw_image_histogram(grayscale_image, [0])"
      ],
      "metadata": {
        "id": "jog7xesnHu3v"
      },
      "execution_count": null,
      "outputs": []
    },
    {
      "cell_type": "code",
      "source": [
        "# Let's define a histogram function for a RGB image\n",
        "def show_color_histogram(image, stretch):\n",
        "    b, g, r = image[:,:,0], image[:,:,1], image[:,:,2]\n",
        "    hist_b = cv2.calcHist([b],[0],mask=None,histSize=stretch,ranges=[0,256])\n",
        "    hist_g = cv2.calcHist([g],[0],mask=None,histSize=stretch,ranges=[0,256])\n",
        "    hist_r = cv2.calcHist([r],[0],None,stretch,[0,256])\n",
        "    plt.plot(hist_r, color='r', label=\"r\")\n",
        "    plt.plot(hist_g, color='g', label=\"g\")\n",
        "    plt.plot(hist_b, color='b', label=\"b\")\n",
        "    plt.xlabel('DN')\n",
        "    plt.ylabel('Count')\n",
        "    plt.legend()\n",
        "    plt.show()\n",
        "\n",
        "# Display the histograms\n",
        "show_color_histogram(bgr_image, stretch=[256])"
      ],
      "metadata": {
        "id": "7e_rT4-GIPX2"
      },
      "execution_count": null,
      "outputs": []
    },
    {
      "cell_type": "markdown",
      "source": [
        "### 3.2.  Histogram stretching"
      ],
      "metadata": {
        "id": "bz_jLuvJIXQ8"
      }
    },
    {
      "cell_type": "markdown",
      "source": [
        "Contrast stretching as the name suggests is an image enhancement technique that tries to improve the contrast by stretching the intensity values of an image to fill the entire dynamic range. The transformation function used is always linear and monotonically increasing.\n",
        "\n",
        "Below figure shows a typical transformation function used for Contrast Stretching.\n",
        "\n",
        "![Sketch of histogram](https://i2.wp.com/theailearner.com/wp-content/uploads/2019/01/linear_Transform.png?w=365&ssl=1)\n",
        "\n",
        "By changing the location of points (r1, s1) and (r2, s2), we can control the shape of the transformation function. For example,\n",
        "\n",
        "- When r1 =s1 and r2=s2, transformation becomes a **Linear function**.\n",
        "- When r1=r2, s1=0 and s2=L-1, transformation becomes a **thresholding function**.\n",
        "- When (r1, s1) = (rmin, 0) and (r2, s2) = (rmax, L-1), this is known as **Min-Max Stretching**.\n",
        "- When (r1, s1) = (rmin + c, 0) and (r2, s2) = (rmax – c, L-1), this is known as **Percentile Stretching**.\n",
        "\n",
        "<br>\n",
        "\n",
        "**MIN-MAX stretching**\n",
        "\n",
        "Python/OpenCV can do contrast stretching via the cv2.normalize() method using min_max."
      ],
      "metadata": {
        "id": "2k0kBkjfIbx8"
      }
    },
    {
      "cell_type": "code",
      "source": [
        "import numpy as np\n",
        "\n",
        "# Make 2 version of the normalized version\n",
        "norm_img1 = cv2.normalize(grayscale_image, None, alpha=0, beta=1, norm_type=cv2.NORM_MINMAX, dtype=cv2.CV_32F)\n",
        "norm_img2 = cv2.normalize(grayscale_image, None, alpha=0.5, beta=2, norm_type=cv2.NORM_MINMAX, dtype=cv2.CV_32F)\n",
        "    # alpha represents the lower range boundary value (default = 0)\n",
        "    # beta represents the upper range boundary value (default = 1)\n",
        "\n",
        "\n",
        "# scale to uint8\n",
        "norm_img1 = (255*norm_img1).astype(np.uint8)\n",
        "norm_img2 = np.clip(norm_img2, 0, 1)\n",
        "norm_img2 = (255*norm_img2).astype(np.uint8)\n",
        "\n",
        "# display input and both output images\n",
        "plt.title('Original')\n",
        "plt.imshow(grayscale_image, cmap='gray')"
      ],
      "metadata": {
        "id": "sY4IhxLDIq57"
      },
      "execution_count": null,
      "outputs": []
    },
    {
      "cell_type": "code",
      "source": [
        "plt.title('Just normalized')\n",
        "plt.imshow(norm_img1, cmap='gray')"
      ],
      "metadata": {
        "id": "szNf6bomI0W1"
      },
      "execution_count": null,
      "outputs": []
    },
    {
      "cell_type": "code",
      "source": [
        "plt.title('min-max stretching')\n",
        "plt.imshow(norm_img2, cmap='gray')"
      ],
      "metadata": {
        "id": "cYmu0I4KI67J"
      },
      "execution_count": null,
      "outputs": []
    },
    {
      "cell_type": "markdown",
      "source": [
        "**--> Modify the alpha and beta values for 'norm_img2' and watch the changes!**"
      ],
      "metadata": {
        "id": "CbjVv6RPLSf-"
      }
    },
    {
      "cell_type": "markdown",
      "source": [
        "### 3.3.  Histogram equalization"
      ],
      "metadata": {
        "id": "xHXDO6ZfLUp2"
      }
    },
    {
      "cell_type": "code",
      "source": [
        "# Equalize the histogram of the grayscale image\n",
        "equalized_grayscale = cv2.equalizeHist(grayscale_image)\n",
        "\n",
        "# Display the equalized version of the image\n",
        "plt.imshow(equalized_grayscale, cmap='gray')"
      ],
      "metadata": {
        "id": "T2e7ZuXPLdBR"
      },
      "execution_count": null,
      "outputs": []
    },
    {
      "cell_type": "code",
      "source": [
        "# Display the histograms\n",
        "draw_image_histogram(grayscale_image, [0])\n",
        "draw_image_histogram(equalized_grayscale, [0])"
      ],
      "metadata": {
        "id": "BHBiPrDJLp83"
      },
      "execution_count": null,
      "outputs": []
    },
    {
      "cell_type": "markdown",
      "source": [
        "(end of Part 3)\n",
        "<br>\n",
        "-------------"
      ],
      "metadata": {
        "id": "QyWCEtnurxE2"
      }
    },
    {
      "cell_type": "markdown",
      "source": [
        "### RECOMMENDATIONS\n",
        "\n",
        "<b><u>GDAL</u></b>\n",
        "\n",
        "Do not hesitate to learn some GDAL options by yourself. An alternative way of understanding GDAL is to use GDAL tools in QGIS. When the tool's window opens and parameters are selected, there is a cell in the window showing the command line used for the GDAL processing. Pretty useful to understand the tools and get to know the required arguments!\n",
        "\n",
        "<b><u>Rasterio</u></b>\n",
        "\n",
        "If you would like to discover additional functions of rasterio and play a bit more with raster data, I suggest you to consult the following links:\n",
        "- https://atmamani.github.io/cheatsheets/open-geo/open-geo-raster-1/\n",
        "- https://kodu.ut.ee/~kmoch/geopython2019/L4/raster.html  \n",
        "\n",
        "Based on the information provided, write your own script and play with the data.\n",
        "\n",
        "<b><u>Finding solutions by yourself</u></b>\n",
        "\n",
        "If your script does not work or if you would like to add options you don't know, **\"Google your question**! If you have a problem or question, the chance is very high that someone had it befor you. On the internet, Python is very well documented. There are lots of websites, tutorials and forums for programmers, where you can find a solution to your problem. Actually, even advanced users \"google\" their questions and copy-paste some lines of code they find on the internet. \"This is the way!\" ;-)\n",
        "\n",
        "Keep in mind that **the best way to learn Python and its modules (here, for geospatial analysis) is to practice as much as possible.**"
      ],
      "metadata": {
        "id": "XTX-SMGnL4MY"
      }
    },
    {
      "cell_type": "markdown",
      "source": [
        "------------------"
      ],
      "metadata": {
        "id": "Lvmpcm3ksZ8y"
      }
    }
  ]
}