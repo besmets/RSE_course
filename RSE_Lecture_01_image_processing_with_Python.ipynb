{
  "nbformat": 4,
  "nbformat_minor": 0,
  "metadata": {
    "colab": {
      "provenance": [],
      "authorship_tag": "ABX9TyPjuRD6nSqVIVy9Z0JPKVGg",
      "include_colab_link": true
    },
    "kernelspec": {
      "name": "python3",
      "display_name": "Python 3"
    },
    "language_info": {
      "name": "python"
    }
  },
  "cells": [
    {
      "cell_type": "markdown",
      "metadata": {
        "id": "view-in-github",
        "colab_type": "text"
      },
      "source": [
        "<a href=\"https://colab.research.google.com/github/besmets/RSE_course/blob/main/RSE_Lecture_01_image_processing_with_Python.ipynb\" target=\"_parent\"><img src=\"https://colab.research.google.com/assets/colab-badge.svg\" alt=\"Open In Colab\"/></a>"
      ]
    },
    {
      "cell_type": "markdown",
      "source": [
        "# REMOTE SENSING OF THE ENVIRONMENT - LECTURE 1\n",
        "# Introduction to raster images and image manipulation with Python\n",
        "(c) Vrije Universiteit Brussel, Prof. Dr. Benoît SMETS - 2023-2024\n",
        "\n",
        "------------\n",
        "<br>\n",
        "\n",
        "### Objectives of this tutorial:\n",
        "1. TOOL: Learn how to use notebooks and Google Colab\n",
        "2. TOOL: Learn basic Python functions to manipulate (geospatial) raster images;  \n",
        "3. PROCESSING: Discover the effect(s) of image characteristics on image processing.\n",
        "\n",
        "### PREREQUISITES\n",
        "- Computer with internet connection and web browser.\n",
        "- Google GMAIL account.\n",
        "\n",
        "<br>\n",
        "To make this tutorial work, you have to systematically run all cells containing code lines, from the first to the last one (Type SHIFT+ENTER to run a cell).  \n",
        "\n",
        "<br>\n",
        "\n",
        "------------"
      ],
      "metadata": {
        "id": "HQjGN2zFj3Ci"
      }
    },
    {
      "cell_type": "markdown",
      "source": [
        "## PART 1: Google Colab, notebooks and Python\n",
        "\n",
        "Text\n",
        "\n",
        "(end of Part 1)\n",
        "<br>\n",
        "-----------------"
      ],
      "metadata": {
        "id": "1moBh0l2qyaN"
      }
    },
    {
      "cell_type": "code",
      "source": [],
      "metadata": {
        "id": "_fXzyDhVqw5O"
      },
      "execution_count": null,
      "outputs": []
    },
    {
      "cell_type": "markdown",
      "source": [
        "## PART 2: Introduction to image visualisation with Python\n",
        "\n",
        "Text\n",
        "\n",
        "(end of Part 2)\n",
        "<br>\n",
        "-------------"
      ],
      "metadata": {
        "id": "yBYzAm2qrcs6"
      }
    },
    {
      "cell_type": "code",
      "source": [],
      "metadata": {
        "id": "vgobv4K1rutz"
      },
      "execution_count": null,
      "outputs": []
    },
    {
      "cell_type": "markdown",
      "source": [
        "## PART 3: Image characteristics and basic processing\n",
        "\n",
        "Text\n",
        "\n",
        "(end of Part 3)\n",
        "<br>\n",
        "-------------"
      ],
      "metadata": {
        "id": "QyWCEtnurxE2"
      }
    },
    {
      "cell_type": "code",
      "source": [],
      "metadata": {
        "id": "5TyfCumOsQLv"
      },
      "execution_count": null,
      "outputs": []
    },
    {
      "cell_type": "markdown",
      "source": [
        "------------------"
      ],
      "metadata": {
        "id": "Lvmpcm3ksZ8y"
      }
    }
  ]
}