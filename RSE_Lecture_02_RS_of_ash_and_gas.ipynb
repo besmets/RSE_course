{
  "nbformat": 4,
  "nbformat_minor": 0,
  "metadata": {
    "colab": {
      "provenance": [],
      "authorship_tag": "ABX9TyN3sSai9YTnu2dG5lyN5Dva",
      "include_colab_link": true
    },
    "kernelspec": {
      "name": "python3",
      "display_name": "Python 3"
    },
    "language_info": {
      "name": "python"
    }
  },
  "cells": [
    {
      "cell_type": "markdown",
      "metadata": {
        "id": "view-in-github",
        "colab_type": "text"
      },
      "source": [
        "<a href=\"https://colab.research.google.com/github/besmets/RSE_course/blob/main/RSE_Lecture_02_RS_of_ash_and_gas.ipynb\" target=\"_parent\"><img src=\"https://colab.research.google.com/assets/colab-badge.svg\" alt=\"Open In Colab\"/></a>"
      ]
    },
    {
      "cell_type": "markdown",
      "source": [
        "# REMOTE SENSING OF THE ENVIRONMENT - LECTURE 2\n",
        "# Introduction to Google Earth Engine and remote sensing of ash and aerosols\n",
        "(c) Vrije Universiteit Brussel, Prof. Dr. Benoît SMETS - 2023-2024\n",
        "\n",
        "------------\n",
        "<br>\n",
        "\n",
        "### Objectives of this tutorial:\n",
        "1. TOOL: Introduction of Google Earth Engine with Python  \n",
        "2. PROCESSING: Discover geostationary imagery (GOES-17) and multispectral imagery dedicated to gas and aerosols (Sentinel-5P/TROPOMI)  \n",
        "\n",
        "### PREREQUISITES\n",
        "- Computer with internet connection and web browser.  \n",
        "- Google GMAIL account.  \n",
        "- A direct access to Google Earth Engine, via the [creation of a cloud project](https://console.cloud.google.com/earth-engine/welcome?pli=1&inv=1&invt=Abp4yw).\n",
        "\n",
        "### TO START THE EXERCISE\n",
        "\n",
        "To start using this notebook, first copy it on your drive.\n",
        "--> On the upper toolbar, click on \"Save a Copy in Drive\".\n",
        "\n",
        "<br>\n",
        "To make this tutorial work, you have to systematically run all cells containing code lines, from the first to the last one (Type SHIFT+ENTER to run a selected cell).  \n",
        "\n",
        "<br>\n",
        "\n",
        "------------"
      ],
      "metadata": {
        "id": "kEXCTF6xnGBi"
      }
    },
    {
      "cell_type": "markdown",
      "source": [
        "## PART 1 – Introduction to the Earth Engine Python API\n",
        "\n",
        "*(This tutorial is strongly inspired by the documentation provided by Prof. Qiusheng Wu on https://courses.geemap.org/ and his [book](https://book.geemap.org/))*\n",
        "\n",
        "### 1.1.  Let's first import the necessary packages:"
      ],
      "metadata": {
        "id": "MVSvlRjco1w_"
      }
    },
    {
      "cell_type": "code",
      "source": [
        "# install GEEMAP in the COLAB environment\n",
        "!pip install geemap\n",
        "\n",
        "# import the libraries\n",
        "import ee\n",
        "import geemap"
      ],
      "metadata": {
        "id": "-Cw6dhTdoiiq"
      },
      "execution_count": null,
      "outputs": []
    },
    {
      "cell_type": "markdown",
      "source": [
        "### 1.2. Connect to Google Earth Engine (GEE)\n",
        "\n",
        "The following code (here below) will create an interactive map in the notebook. To do so, we first need to authenticate to GEE.   \n",
        "\n",
        "Authorise the access by specifying the name of you GEE project *(see line 3 of the code here below)*.   \n",
        "\n",
        "Click SHIFT + Enter to run the cell here below !   \n",
        "\n",
        "--> You should see the interactive map appearing.\n"
      ],
      "metadata": {
        "id": "ML2ldiaGqTf7"
      }
    },
    {
      "cell_type": "code",
      "source": [
        "# Authenticate\n",
        "ee.Authenticate()\n",
        "ee.Initialize(project='your-project-name')   # To adapt with the name of your cloud project\n",
        "\n",
        "# Display the interactive map\n",
        "Map = geemap.Map(center=[50.8,4.4], zoom=6)\n",
        "Map"
      ],
      "metadata": {
        "id": "C-iLRvEeqIjP"
      },
      "execution_count": null,
      "outputs": []
    },
    {
      "cell_type": "markdown",
      "source": [
        "### 1.3.  Open satellite imagery\n",
        "\n",
        "To check which collections of satellite images are available in GEE, you can visit the dataset page of GEE: https://developers.google.com/earth-engine/datasets.  \n",
        "\n",
        "For this tutorial, we are going to upload Sentinel-2 imagery over Belgium.\n",
        "\n",
        "Information to upload Sentinel-2 data is [available here](https://developers.google.com/earth-engine/datasets/catalog/sentinel-2).   \n",
        "\n",
        "There are 2 version of the collection:   \n",
        "- Surface reflectance *(corrected from the atmosphere)*.  \n",
        "- Top-of-Atmosphere *(TOA) Reflectance (no atmospheric correction)*.   \n",
        "\n",
        "Let's use the surface reflectance version!"
      ],
      "metadata": {
        "id": "1iL2kn-Hs4ql"
      }
    },
    {
      "cell_type": "code",
      "source": [
        "# Create a variable \"collection\", calling the collection needed\n",
        "s2_collection = ee.ImageCollection('COPERNICUS/S2_SR_HARMONIZED')\n",
        "\n",
        "# Let's filter this collection to only select July 2023\n",
        "s2_collection_202307 = s2_collection.filterDate('2023-07-01', '2023-07-31')\n",
        "\n",
        "# Now, we are only interest by images covering Brussels. Let's filter again!\n",
        "roi = ee.Geometry.BBox(4.05, 50.45, 5.24, 51.2)  # Coordinates = (west, south, east, north)\n",
        "s2_collection_Bel_202307 = s2_collection_202307.filterBounds(roi)"
      ],
      "metadata": {
        "colab": {
          "base_uri": "https://localhost:8080/",
          "height": 17
        },
        "id": "JwMv0VDKrPrP",
        "outputId": "3b974145-30b6-4de5-9d41-9c20051556db"
      },
      "execution_count": null,
      "outputs": [
        {
          "output_type": "display_data",
          "data": {
            "text/plain": [
              "<IPython.core.display.HTML object>"
            ],
            "text/html": [
              "\n",
              "            <style>\n",
              "                .geemap-dark {\n",
              "                    --jp-widgets-color: white;\n",
              "                    --jp-widgets-label-color: white;\n",
              "                    --jp-ui-font-color1: white;\n",
              "                    --jp-layout-color2: #454545;\n",
              "                    background-color: #383838;\n",
              "                }\n",
              "                    \n",
              "                .geemap-dark .jupyter-button {\n",
              "                    --jp-layout-color3: #383838;\n",
              "                }\n",
              "                \n",
              "                .geemap-colab {\n",
              "                    background-color: var(--colab-primary-surface-color, white);\n",
              "                }\n",
              "                    \n",
              "                .geemap-colab .jupyter-button {\n",
              "                    --jp-layout-color3: var(--colab-primary-surface-color, white);\n",
              "                }\n",
              "            </style>\n",
              "            "
            ]
          },
          "metadata": {}
        }
      ]
    },
    {
      "cell_type": "markdown",
      "source": [
        "Note that you can simplify the selection of the collection with something like this:   \n",
        "\n",
        "```python  \n",
        "# Filtering parameters\n",
        "start_date = '2023-07-01'\n",
        "end_date = '2023-07-31'\n",
        "roi = ee.Geometry.BBox(4.05, 50.45, 5.24, 51.2)\n",
        "\n",
        "#Collection\n",
        "dataset = s2_collection = ee.ImageCollection('COPERNICUS/S2_SR_HARMONIZED') \\\n",
        ".filterDate(start_date, end_date) \\\n",
        ".filterBounds(roi)\n",
        "```\n",
        "\n",
        "Now, let's see what we have for the month of July 2023!"
      ],
      "metadata": {
        "id": "6rt-S9cuIyFg"
      }
    },
    {
      "cell_type": "code",
      "source": [
        "# Get the collection size\n",
        "print(s2_collection_Bel_202307.size().getInfo(), 'images')"
      ],
      "metadata": {
        "colab": {
          "base_uri": "https://localhost:8080/",
          "height": 36
        },
        "id": "CS0E4hU5IShr",
        "outputId": "4769f080-9d35-4cd4-936b-c015ff4aa89d"
      },
      "execution_count": null,
      "outputs": [
        {
          "output_type": "display_data",
          "data": {
            "text/plain": [
              "<IPython.core.display.HTML object>"
            ],
            "text/html": [
              "\n",
              "            <style>\n",
              "                .geemap-dark {\n",
              "                    --jp-widgets-color: white;\n",
              "                    --jp-widgets-label-color: white;\n",
              "                    --jp-ui-font-color1: white;\n",
              "                    --jp-layout-color2: #454545;\n",
              "                    background-color: #383838;\n",
              "                }\n",
              "                    \n",
              "                .geemap-dark .jupyter-button {\n",
              "                    --jp-layout-color3: #383838;\n",
              "                }\n",
              "                \n",
              "                .geemap-colab {\n",
              "                    background-color: var(--colab-primary-surface-color, white);\n",
              "                }\n",
              "                    \n",
              "                .geemap-colab .jupyter-button {\n",
              "                    --jp-layout-color3: var(--colab-primary-surface-color, white);\n",
              "                }\n",
              "            </style>\n",
              "            "
            ]
          },
          "metadata": {}
        },
        {
          "output_type": "stream",
          "name": "stdout",
          "text": [
            "48 images\n"
          ]
        }
      ]
    },
    {
      "cell_type": "code",
      "source": [
        "# Get the first image and display the metadata\n",
        "first_image = s2_collection_Bel_202307.first()\n",
        "geemap.image_props(first_image).getInfo()"
      ],
      "metadata": {
        "id": "J5MaCrYzMfdE"
      },
      "execution_count": null,
      "outputs": []
    },
    {
      "cell_type": "code",
      "source": [
        "# Display the first image in the interactive map\n",
        "Map.addLayer(first_image, {}, \"First image\")\n",
        "Map.centerObject(first_image, 6)\n",
        "Map"
      ],
      "metadata": {
        "id": "kmb2N23NOX9b"
      },
      "execution_count": null,
      "outputs": []
    },
    {
      "cell_type": "markdown",
      "source": [
        "Ok... That's not convincing. We cannot clearly see the image and we only have a fraction of it. Let's select another image and improve the display!"
      ],
      "metadata": {
        "id": "CDSZ9eSnKVhL"
      }
    },
    {
      "cell_type": "code",
      "source": [
        "# Look at the content of the filtered collection\n",
        "display(s2_collection_Bel_202307)"
      ],
      "metadata": {
        "id": "zVJpe_WqUaec"
      },
      "execution_count": null,
      "outputs": []
    },
    {
      "cell_type": "code",
      "source": [
        "# Select one image in the list\n",
        "collection_list = s2_collection_Bel_202307.toList(s2_collection_Bel_202307.size())\n",
        "display(collection_list.get(5))"
      ],
      "metadata": {
        "id": "DeVyTAWVaPdn"
      },
      "execution_count": null,
      "outputs": []
    },
    {
      "cell_type": "code",
      "source": [
        "# Select one image in the list and display it on the interactive map\n",
        "selected_image = ee.Image('COPERNICUS/S2_SR_HARMONIZED/20230704T104621_20230704T104624_T31UES')\n",
        "\n",
        "# Tune the visualisation parameters\n",
        "visParams = {\n",
        "  \"bands\": ['B4', 'B3', 'B2'],\n",
        "  \"min\": -150,\n",
        "  \"max\": 4000,\n",
        "}\n",
        "\n",
        "# Display on the map\n",
        "Map.addLayer(selected_image, visParams, 'selected image')\n",
        "Map.centerObject(selected_image)\n",
        "Map"
      ],
      "metadata": {
        "id": "PDNUpvzRbsxb"
      },
      "execution_count": null,
      "outputs": []
    },
    {
      "cell_type": "markdown",
      "source": [
        "Well, the display is better, but we still have lots of clouds. Let's filter the collection to only keep images with (almost) no clouds!"
      ],
      "metadata": {
        "id": "wQIrCA1QpA62"
      }
    },
    {
      "cell_type": "code",
      "source": [
        "S2_coll_cloudfree = s2_collection_Bel_202307.filter(ee.Filter.lt('CLOUDY_PIXEL_PERCENTAGE', 10))   # lt() filter stands for \"less than\" something\n",
        "\n",
        "display(S2_coll_cloudfree)"
      ],
      "metadata": {
        "id": "sBdsFCTtpMzi"
      },
      "execution_count": null,
      "outputs": []
    },
    {
      "cell_type": "code",
      "source": [
        "selected_image = ee.Image('COPERNICUS/S2_SR_HARMONIZED/20230711T103631_20230711T104102_T31UFR')\n",
        "\n",
        "# Tune the visualisation parameters\n",
        "visParams = {\n",
        "  \"bands\": ['B4', 'B3', 'B2'],\n",
        "  \"min\": -150,\n",
        "  \"max\": 4000,\n",
        "}\n",
        "\n",
        "# Display on the map\n",
        "Map.addLayer(selected_image, visParams, 'selected image')\n",
        "Map.centerObject(selected_image)\n",
        "Map"
      ],
      "metadata": {
        "id": "YrtEu0gNqSi7"
      },
      "execution_count": null,
      "outputs": []
    },
    {
      "cell_type": "markdown",
      "source": [
        "Great! It works and we can see the ground surface. Know, let's play with the spectral bands and the visualisation parameters!   \n",
        "\n",
        "Check https://developers.google.com/earth-engine/guides/image_visualization for more visualisation parameters!"
      ],
      "metadata": {
        "id": "8OCPw98FqwBN"
      }
    },
    {
      "cell_type": "code",
      "source": [
        "# EXERCISE:\n",
        "# Select the bands to create the composite image! --> Visit https://developers.google.com/earth-engine/datasets\n",
        "selected_bands = [, , ]\n",
        "min =\n",
        "max =\n",
        "\n",
        "new_visParams = {\n",
        "  \"bands\": selected_bands,\n",
        "  \"min\": min,\n",
        "  \"max\": max,\n",
        "}\n",
        "\n",
        "# Display on the map\n",
        "Map.addLayer(selected_image, new_visParams, 'selected image')\n",
        "Map.centerObject(selected_image)\n",
        "Map"
      ],
      "metadata": {
        "id": "DxsU46yTq-nm"
      },
      "execution_count": null,
      "outputs": []
    },
    {
      "cell_type": "markdown",
      "source": [
        "Now, you can deal with collections of images, their filtering, and the display of images in the interactive map.\n",
        "\n",
        "**Note:** You can explore basic functions to display information on images by looking at https://developers.google.com/earth-engine/guides/image_info.  "
      ],
      "metadata": {
        "id": "xHjIxnp2sSCu"
      }
    },
    {
      "cell_type": "markdown",
      "source": [
        "-------------------\n",
        "\n",
        "## PART 2 – Remote Sensing of Ash using GEE\n",
        "\n",
        "In this exercise, we will use GOES-17 imagery to look at ash emissions related to the Hunga Tunga 2022 eruption."
      ],
      "metadata": {
        "id": "iB-Y2rFLtNUT"
      }
    },
    {
      "cell_type": "markdown",
      "source": [
        "###2.1 Loading the GOES-17 collection"
      ],
      "metadata": {
        "id": "xA8dl-e4_wiW"
      }
    },
    {
      "cell_type": "code",
      "source": [
        "# Load the collection and filter for a given date range\n",
        "\n",
        "collection_name = 'NOAA/GOES/17/MCMIPF'\n",
        "start_datetime = '2022-01-15T04:00:00'\n",
        "end_datetime = '2022-01-15T05:35:00'\n",
        "\n",
        "goes17_coll = ee.ImageCollection(collection_name).filterDate(start_datetime, end_datetime)\n",
        "\n",
        "# Display information on the collection\n",
        "display(goes17_coll)"
      ],
      "metadata": {
        "id": "iQqgc0H3Mf82"
      },
      "execution_count": null,
      "outputs": []
    },
    {
      "cell_type": "markdown",
      "source": [
        "Look at the content!  \n",
        "\n",
        "- *How many images are available?*  \n",
        "- *How many spectral bands have the images?*  \n",
        "- *What is the pixel depth of the spectral bands?*  \n",
        "\n",
        "<br>\n",
        "\n",
        "Not all spectral bands are useful. Let's select only some of them!"
      ],
      "metadata": {
        "id": "ibHPPignD3Hk"
      }
    },
    {
      "cell_type": "code",
      "source": [
        "# Create a collection of images with selected spectral bands\n",
        "\n",
        "selected_bands = ['CMI_C01', 'CMI_C02', 'CMI_C03', 'CMI_C11', 'CMI_C14', 'CMI_C15']\n",
        "\n",
        "goes17_coll_lite = ee.ImageCollection(collection_name).filterDate(start_datetime, end_datetime).select(selected_bands)\n",
        "\n",
        "# Display information on the collection\n",
        "display(goes17_coll_lite)"
      ],
      "metadata": {
        "id": "FBoTvwzADj1Q"
      },
      "execution_count": null,
      "outputs": []
    },
    {
      "cell_type": "markdown",
      "source": [
        "Look at the content!  \n",
        "\n",
        "- *How many spectral bands have the images?*  "
      ],
      "metadata": {
        "id": "USoiITe20WgF"
      }
    },
    {
      "cell_type": "markdown",
      "source": [
        "### 2.2.  Create a green band and crop the images\n",
        "\n",
        "The GOES-17 imagery does not have a green band, which prevents the creation of a true-color composite image. Fortunately, [Bah et al. (2018)](https://agupubs.onlinelibrary.wiley.com/doi/10.1029/2018EA000379) proposed a way to used use the blue, red and NIR bands to artificially create a green-like band. Let's apply this to display true-color images!  \n",
        "\n",
        "Let's also crop the collection to retain only our region of interest over Hunga Tunga!  "
      ],
      "metadata": {
        "id": "vdLiDKPSysNo"
      }
    },
    {
      "cell_type": "code",
      "source": [
        "# Define band aliases.\n",
        "\n",
        "BLUE = 'CMI_C01'\n",
        "RED = 'CMI_C02'\n",
        "VEGGIE = 'CMI_C03'\n",
        "\n",
        "# Define the functions of the Bah et al. (2018) procedure\n",
        "\n",
        "def applyScaleAndOffset(img):\n",
        "  def getFactorImg(factorNames):\n",
        "    factorList = img.toDictionary().select(factorNames).values()\n",
        "    return ee.Image.constant(factorList)\n",
        "\n",
        "  scaleImg = getFactorImg(['CMI_C.._scale'])\n",
        "  offsetImg = getFactorImg(['CMI_C.._offset'])\n",
        "  scaled = img.select('CMI_C..').multiply(scaleImg).add(offsetImg)\n",
        "  return img.addBands(srcImg=scaled, overwrite=True)\n",
        "\n",
        "def addGreenBand(img):\n",
        "  green = img.expression('GREEN = 0.45 * red + 0.10 * nir + 0.45 * blue', {\n",
        "    'blue': img.select(BLUE),\n",
        "    'red': img.select(RED),\n",
        "    'nir': img.select(VEGGIE)})\n",
        "  return img.addBands(green)\n",
        "\n",
        "# Crop the images to a specific ROI\n",
        "\n",
        "def cropImage(img):\n",
        "  roi = ee.Geometry.BBox(170, -29.75, 200, -9.7)\n",
        "  img.clip(roi)"
      ],
      "metadata": {
        "colab": {
          "base_uri": "https://localhost:8080/",
          "height": 17
        },
        "id": "MoXw3tQMvHQQ",
        "outputId": "20e065e0-1688-4cc5-a4af-477a9c6b79c6"
      },
      "execution_count": null,
      "outputs": [
        {
          "output_type": "display_data",
          "data": {
            "text/plain": [
              "<IPython.core.display.HTML object>"
            ],
            "text/html": [
              "\n",
              "            <style>\n",
              "                .geemap-dark {\n",
              "                    --jp-widgets-color: white;\n",
              "                    --jp-widgets-label-color: white;\n",
              "                    --jp-ui-font-color1: white;\n",
              "                    --jp-layout-color2: #454545;\n",
              "                    background-color: #383838;\n",
              "                }\n",
              "                    \n",
              "                .geemap-dark .jupyter-button {\n",
              "                    --jp-layout-color3: #383838;\n",
              "                }\n",
              "                \n",
              "                .geemap-colab {\n",
              "                    background-color: var(--colab-primary-surface-color, white);\n",
              "                }\n",
              "                    \n",
              "                .geemap-colab .jupyter-button {\n",
              "                    --jp-layout-color3: var(--colab-primary-surface-color, white);\n",
              "                }\n",
              "            </style>\n",
              "            "
            ]
          },
          "metadata": {}
        }
      ]
    },
    {
      "cell_type": "markdown",
      "source": [
        "### 2.3.  Display a GOES image over the Hunga Tunga 2022 eruption"
      ],
      "metadata": {
        "id": "zC-lE_6PAGyh"
      }
    },
    {
      "cell_type": "code",
      "source": [
        "# Modify the image to add the green band\n",
        "\n",
        "selected_image = ee.Image('NOAA/GOES/17/MCMIPF/2022015053032000000')\n",
        "\n",
        "image = addGreenBand(applyScaleAndOffset(selected_image))\n",
        "\n",
        "display(image)\n",
        "\n",
        "# Define the visualisation parameters\n",
        "\n",
        "GOES_MIN = 0.0\n",
        "GOES_MAX = 0.7;  # Alternatively 1.0 or 1.3.\n",
        "GAMMA = 1.3\n",
        "\n",
        "goesRgbViz = {\n",
        "  'bands': [RED, 'GREEN', BLUE],\n",
        "  'min': GOES_MIN,\n",
        "  'max': GOES_MAX,\n",
        "  'gamma': GAMMA,\n",
        "  'opacity': 1\n",
        "}\n",
        "\n",
        "roi = ee.Geometry.BBox(170, -29.7, 200, -9.7)\n",
        "\n",
        "# Display the result\n",
        "Map.clear()\n",
        "Map = geemap.Map()\n",
        "Map.addLayer(image.clip(roi), goesRgbViz, 'GOES-17 RGB composite')\n",
        "Map.centerObject(roi)\n",
        "Map"
      ],
      "metadata": {
        "id": "STApOv7B6t6T"
      },
      "execution_count": null,
      "outputs": []
    },
    {
      "cell_type": "markdown",
      "source": [
        "Change the name of the image to see other images of the collection!"
      ],
      "metadata": {
        "id": "VgqvqIbtBXeO"
      }
    },
    {
      "cell_type": "markdown",
      "source": [
        "###2.4.  Export the images for manipulation outside GEE\n",
        "\n",
        "GEEMAP has a timeseries function allowing us to directly create a list of images and move from one image to another using a slider.  \n",
        "\n",
        "However, such function is not used here, as we would like to make a more advanced time-lapse animation.  \n",
        "\n",
        "So, let's first export the selected images, together with the created green band!"
      ],
      "metadata": {
        "id": "zCop0YN2BfqE"
      }
    },
    {
      "cell_type": "code",
      "source": [
        "# Check the number of images in the filtered collection, and their name\n",
        "goes17_coll_lite.aggregate_array('system:index').getInfo()"
      ],
      "metadata": {
        "id": "rlkGXJOcbCqG"
      },
      "execution_count": null,
      "outputs": []
    },
    {
      "cell_type": "code",
      "source": [
        "# Apply the Bah et al. (2018) procedure to the collection and crop images\n",
        "\n",
        "def update_collection(img):\n",
        "  roi = ee.Geometry.BBox(178.88, -24.6, 189.32, -16.25)\n",
        "  return addGreenBand(applyScaleAndOffset(img.clip(roi)))\n",
        "\n",
        "images = goes17_coll.map(update_collection)\n",
        "\n",
        "band_selection = ['CMI_C01', 'CMI_C02', 'GREEN', 'CMI_C03', 'CMI_C11', 'CMI_C14', 'CMI_C15']\n",
        "images_selected_bands = images.select(band_selection)\n",
        "\n",
        "display(images)\n",
        "display(images_selected_bands)\n",
        "\n",
        "print(' ')\n",
        "print('Image collection list:')\n",
        "images.aggregate_array('system:index').getInfo()"
      ],
      "metadata": {
        "id": "YxB5CCP-qN9J"
      },
      "execution_count": null,
      "outputs": []
    },
    {
      "cell_type": "markdown",
      "source": [
        "Look at the content for both collections!  \n",
        "\n",
        "- *How many images are available?*  \n",
        "\n",
        "- *How many spectral bands have the images?*  "
      ],
      "metadata": {
        "id": "fNqvwAOW0-aT"
      }
    },
    {
      "cell_type": "markdown",
      "source": [
        "### 2.5.  Export the images for manipulation outside GEE\n",
        "\n",
        "A GEEMAP function exists to export images, either on a local disk or on Google Drive:  \n",
        "\n",
        "```python\n",
        "# Export image to local drive\n",
        "geemap.ee_export_image()\n",
        "\n",
        "# Export image to Google Drive\n",
        "geemap.ee_export_image_to_drive()\n",
        "\n",
        "# Export collection to local drive\n",
        "geemap.ee_export_image_collection()\n",
        "\n",
        "# Export collection to Google Drive\n",
        "geemap.ee_export_image_collection_to_drive()\n",
        "```\n",
        "\n",
        "Unfortunately, the export option for a local drive limits the size of an exported image to 32 MB.  \n",
        "\n",
        "We will, consequently, use Google Drive..."
      ],
      "metadata": {
        "id": "m_gXv_bS98DE"
      }
    },
    {
      "cell_type": "code",
      "source": [
        "export_folder = '__RSE_colab_data' # just direct folders (no subfolders)\n",
        "pixel_size = 1000;                 # in metres\n",
        "chosen_crs = 'EPSG:4326'           # Geographic or Projected Coordinate System\n",
        "fileformat = 'GeoTIFF'\n",
        "\n",
        "geemap.ee_export_image_collection_to_drive(images_selected_bands, folder=export_folder, scale=pixel_size, crs=chosen_crs)"
      ],
      "metadata": {
        "id": "UKNKCLCsJQMw"
      },
      "execution_count": null,
      "outputs": []
    },
    {
      "cell_type": "markdown",
      "source": [
        "Export progress can be visualised in the task window of GEE editor --> https://code.earthengine.google.com/  \n",
        "\n",
        "Once exported, the data can be retrieved on Google Drive and, perhaps, moved to a more appropriate folder.  \n",
        "\n",
        "Now, let's open the images in QGIS to perform BTD for ash detection, using the following formula:   \n",
        ">**\"B11 - B12 < 0\"**\n",
        "\n",
        "Which is translated in practice by the bands 14 (11µm) and 15 (12µm) of the ABI sensor. to not hesitate to change the threshold value if needed *(e.g., \"B11 - B12 = -0.1\")*\n",
        "\n",
        "This will create a mask image for each acquisition, with the same spatial resolution as the GOES-17 images. This mask will be made of pixels have a value of either 1 (respects the formula) or 0 (does not respect the formula). You can change the symbology of the masks to make the \"0\" value appear transparent, while \"1\" value can be highlighted by a specific colour.  \n",
        "\n",
        "<br>\n",
        "\n",
        "**ASSIGNMENT:**\n",
        "\n",
        "Take advantage of QGIS to create a stunning layout for each GOES-17 image (10 images). Then, use them as frames to create a GIF animation showing the development of the ash plume over time, together with the BTD ash detection overlaying the satellite images.  \n",
        "\n",
        "Do not forget the basic rules to make a map (scale and/or coordinates, north arrow, legend, useful content, symbols, etc.)!\n",
        "\n",
        "There is a python code provided on [GitHub](https://github.com/besmets/RSE_course), in a Jupyter Notebook, to create this GIF animation.  \n",
        "\n",
        "NOT MANDATORY: You could also make a GIF animation with the TROPOMI imagery (see PART 3), if you would like.  \n",
        "\n",
        "CONTEST: During March 2024, I will select the best GIF animation(s). The best one will be used to advertise the Master in Geography and the RSE course. So be rigorous and creative!\n",
        "\n",
        "<br>\n",
        "\n",
        "***Deadline for submitting the GIF: Monday 26/02/2024, 20:00 (8pm) CET.***"
      ],
      "metadata": {
        "id": "rUIbvjB7hcX0"
      }
    },
    {
      "cell_type": "markdown",
      "source": [
        "----------------------\n",
        "\n",
        "## PART 3 – Remote Sensing of trace gases using GEE\n",
        "\n",
        "In this part, you have to code to retrieve SO2 data from Sentinel-5P TROPOMI.  \n",
        "\n",
        "Take advantage of what you learned in PART 2!  \n",
        "\n",
        "You can also have a look at the GEE and GEEMAP documentation:\n",
        "- https://developers.google.com/earth-engine/datasets\n",
        "- https://geemap.org/\n",
        "- https://book.geemap.org/\n",
        "\n",
        "Finally, you can take inspiration from my JS script to visualise TROPOMI data, [available here on GitHub](https://github.com/besmets/RSE_course/tree/main/Additional_information)."
      ],
      "metadata": {
        "id": "uu5pmufYJBBp"
      }
    },
    {
      "cell_type": "code",
      "source": [],
      "metadata": {
        "id": "GFs5sOH_KPq-"
      },
      "execution_count": null,
      "outputs": []
    }
  ]
}