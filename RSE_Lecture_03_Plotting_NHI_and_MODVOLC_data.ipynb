{
  "nbformat": 4,
  "nbformat_minor": 0,
  "metadata": {
    "colab": {
      "provenance": [],
      "include_colab_link": true
    },
    "kernelspec": {
      "name": "python3",
      "display_name": "Python 3"
    },
    "language_info": {
      "name": "python"
    }
  },
  "cells": [
    {
      "cell_type": "markdown",
      "metadata": {
        "id": "view-in-github",
        "colab_type": "text"
      },
      "source": [
        "<a href=\"https://colab.research.google.com/github/besmets/RSE_course/blob/main/RSE_Lecture_03_Plotting_NHI_and_MODVOLC_data.ipynb\" target=\"_parent\"><img src=\"https://colab.research.google.com/assets/colab-badge.svg\" alt=\"Open In Colab\"/></a>"
      ]
    },
    {
      "cell_type": "markdown",
      "source": [
        "------------------\n",
        "# Plotting NHI hotspot and MODVOLC VRP data\n",
        "------------------\n",
        "**Author:** B. SMETS  \n",
        "**Affiliations:** Vrije Universiteit Brussel / Royal Museum for Central Africa  \n",
        "**Version:** 0.2  \n",
        "**Year:** 2024  \n",
        "\n",
        "------------------"
      ],
      "metadata": {
        "id": "HKSzdFt47HVm"
      }
    },
    {
      "cell_type": "code",
      "source": [
        "# Import Python libraries\n",
        "import matplotlib.pyplot as plt\n",
        "import pandas as pd\n",
        "from google.colab import drive\n",
        "from google.colab import files"
      ],
      "metadata": {
        "id": "jBky3iRD7TxA"
      },
      "execution_count": null,
      "outputs": []
    },
    {
      "cell_type": "code",
      "source": [
        "# 1. LOAD GOOGLE DRIVE\n",
        "\n",
        "drive.mount('/content/gdrive')\n",
        "  # This line will ask you the permission to connect to your Google Drive. Follow the steps to grant the access.\n",
        "\n",
        "lecture03_path = 'gdrive/My Drive/__RSE_colab_data/Lecture_03'\n",
        "  # Change directory path to the one where the image frames are saved!"
      ],
      "metadata": {
        "id": "oGLLJD0n7s5b"
      },
      "execution_count": null,
      "outputs": []
    },
    {
      "cell_type": "code",
      "source": [
        "# 2. SETUP AREA (area where you have to hard code your GIF parameters)\n",
        "# ====================================================================\n",
        "\n",
        "# 2.1. Paths to data\n",
        "# -------------------\n",
        "\n",
        "# MODVOLC DATA\n",
        "mv_directory = lecture03_path\n",
        "modvolc_file = 'modis_plot_data.txt'\n",
        "\n",
        "# NHI DATA\n",
        "nhi_directory = lecture03_path\n",
        "nhi_file = 'NHI_data.csv'\n",
        "\n",
        "# 2.2. Plotting parameters\n",
        "# -------------------------\n",
        "\n",
        "# Limits of date axis\n",
        "start_date = '2015-01-01'     # Start date in the plot\n",
        "finish_date = '2017-01-01'    # Finish date in the plot\n",
        "\n",
        "# Plot title\n",
        "\n",
        "plot_title = 'Erta Ale Volcano  |  Thermal Remote Sensing Observation'\n",
        "\n",
        "# Date format to display on the plot with pre-selections\n",
        "fmt1 = '%d/%m/%Y'     # e.g., 04/10/2017\n",
        "fmt2 = '%d/%m/%y'     # e.g., 04/10/17\n",
        "fmt3 = '%d-%m-%Y'     # e.g., 04-10-2017\n",
        "fmt4 = '%b %y'        # e.g., May 19\n",
        "fmt5 = '%b %Y'        # e.g., May 2019\n",
        "fmt6 = '%m/%y'        # e.g., 05/19\n",
        "fmt7 = '%m/%Y'        # e.g., 05/2019\n",
        "fmt8 = '%d %b'        # e.g., 24 April\n",
        "fmt9 = '%d/%m'        # e.g., 24/04\n",
        "\n",
        "date_format = fmt6    # Choose the above format you would like\n",
        "\n",
        "# =========================== END OF SETUP ==========================="
      ],
      "metadata": {
        "id": "eYjFBt3e75fA"
      },
      "execution_count": null,
      "outputs": []
    },
    {
      "cell_type": "code",
      "source": [
        "# 3. PLOT CREATION (you should not modify this section)\n",
        "# ====================================================================\n",
        "\n",
        "# Dataframes\n",
        "modvolc = pd.read_csv(f\"{mv_directory}/{modvolc_file}\", sep='\\s+')\n",
        "nhi = pd.read_csv(f\"{nhi_directory}/{nhi_file}\", sep=',', thousands=',')\n",
        "\n",
        "# Create readable 'datetime' columns to manage dates in plots\n",
        "mv_rawdate = modvolc['UNIX_Time']\n",
        "mv_newdate = pd.to_datetime(mv_rawdate, unit='s')\n",
        "\n",
        "nhi_newdate = pd.to_datetime(nhi['system:time_start'], format='%b %d, %Y')\n",
        "\n",
        "# Set the date limits\n",
        "start = pd.to_datetime(start_date, yearfirst=True)\n",
        "finish = pd.to_datetime(finish_date, yearfirst=True)\n",
        "\n",
        "# Define X and Y values\n",
        "x_mv = mv_newdate\n",
        "y_mv = modvolc['Power']\n",
        "x_nhi = nhi_newdate\n",
        "y_nhi = nhi['NHI_AREA '] # Sometimes, a space is in the indexed column name\n",
        "\n",
        "# Build the figure\n",
        "fig, ax1 = plt.subplots(figsize=(10, 4))\n",
        "\n",
        "ax1.stem(x_mv, y_mv, linefmt=\"royalblue\", basefmt=\" \", markerfmt=\" \", label=\"MODIS\")\n",
        "ax1.set_xlim(start, finish)\n",
        "\n",
        "ax2 = ax1.twinx()\n",
        "ax2.scatter(x_nhi, y_nhi, c='indianred', label=\"S2 MSI\", s=14)\n",
        "\n",
        "# setup layout\n",
        "fig.suptitle(plot_title, fontsize=16)\n",
        "\n",
        "ax1.set_xlabel('Date', fontweight='bold')\n",
        "\n",
        "ax1.set_ylim(bottom=0, top=400)\n",
        "ax1.set_ylabel('Volcanic Radiative Power (MW)', color='royalblue', fontweight='bold')\n",
        "ax1.tick_params(axis='y', labelcolor='royalblue')\n",
        "\n",
        "ax2.set_ylim(bottom=0)\n",
        "ax2.set_ylabel('NHI hot pixel area (m$^2$)', color='indianred', fontweight='bold')\n",
        "ax2.tick_params(axis='y', labelcolor='indianred')\n",
        "\n",
        "fig.tight_layout()  # otherwise the right y-label is slightly clipped\n",
        "\n",
        "# Display the figure\n",
        "plt.show()"
      ],
      "metadata": {
        "id": "33dyZizC9Pn-"
      },
      "execution_count": null,
      "outputs": []
    }
  ]
}