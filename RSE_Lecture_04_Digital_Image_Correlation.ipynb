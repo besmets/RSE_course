{
  "nbformat": 4,
  "nbformat_minor": 0,
  "metadata": {
    "colab": {
      "provenance": [],
      "authorship_tag": "ABX9TyOxWmEO4d9p09YvOSBHYFrN",
      "include_colab_link": true
    },
    "kernelspec": {
      "name": "python3",
      "display_name": "Python 3"
    },
    "language_info": {
      "name": "python"
    }
  },
  "cells": [
    {
      "cell_type": "markdown",
      "metadata": {
        "id": "view-in-github",
        "colab_type": "text"
      },
      "source": [
        "<a href=\"https://colab.research.google.com/github/besmets/RSE_course/blob/main/RSE_Lecture_04_Digital_Image_Correlation.ipynb\" target=\"_parent\"><img src=\"https://colab.research.google.com/assets/colab-badge.svg\" alt=\"Open In Colab\"/></a>"
      ]
    },
    {
      "cell_type": "markdown",
      "source": [
        "# REMOTE SENSING OF THE ENVIRONMENT - LECTURE 4\n",
        "# Introduction to Digital Image Correlation\n",
        "(c) Vrije Universiteit Brussel, Prof. Dr. Benoît SMETS - 2023-2024\n",
        "\n",
        "------------\n",
        "<br>\n",
        "\n",
        "### Objectives of this tutorial:\n",
        "1. Learn the basic principles of digital image correlation.\n",
        "2. Discover slow-moving landslides\n",
        "\n",
        "### PREREQUISITES\n",
        "- Computer with internet connection and web browser.  \n",
        "- Google GMAIL account.\n",
        "- Access to Google Earth Engine\n",
        "\n",
        "### TO START THE EXERCISE\n",
        "\n",
        "To start using this notebook, first copy it on your drive.\n",
        "--> On the upper toolbar, click on \"Copy to Drive\".\n",
        "\n",
        "<br>\n",
        "To make this tutorial work, you have to systematically run all cells containing code lines, from the first to the last one (Type SHIFT+ENTER to run a selected cell).  \n",
        "\n",
        "<br>\n",
        "\n",
        "------------"
      ],
      "metadata": {
        "id": "kcH5lftcTVXW"
      }
    },
    {
      "cell_type": "markdown",
      "source": [
        "## Part 1 – Extracting series of Sentinel-2 images from Google Earth Engine  \n"
      ],
      "metadata": {
        "id": "S-eTnaYGUBCI"
      }
    },
    {
      "cell_type": "code",
      "source": [
        "# import modules\n",
        "import ee\n",
        "import geemap\n",
        "\n",
        "# Authenticate\n",
        "ee.Authenticate()\n",
        "ee.Initialize(project='ee-bsmets')"
      ],
      "metadata": {
        "id": "M8_qDykAT_ov"
      },
      "execution_count": null,
      "outputs": []
    },
    {
      "cell_type": "code",
      "source": [
        "# 1. Define your region and period of interest\n",
        "# --------------------------------------------\n",
        "\n",
        "locx = -72.15\n",
        "locy = -16.37\n",
        "roi = ee.Geometry.Rectangle([-72.16517, -16.37842, -72.14676, -16.36055])\n",
        "start = ee.Date(\"2021-01-01\")\n",
        "finish = ee.Date(\"2022-01-01\")\n",
        "\n",
        "# 2. Filter the image collection\n",
        "# -------------------------------\n",
        "\n",
        "collection = \"COPERNICUS/S2_SR_HARMONIZED\"\n",
        "s2_coll = ee.ImageCollection(collection).filterDate(start, finish).filterBounds(roi)\n",
        "\n",
        "# 3. List the images available in the filtered collection\n",
        "# --------------------------------------------------------\n",
        "\n",
        "count = s2_coll.size()                  # Get the number of images available in the filtered collection\n",
        "img_nbr = int(count.getInfo())          # Transform this value into an integer\n",
        "\n",
        "# Display the number of images\n",
        "print('NUMBER OF IMAGES AVAILABLE FOR THE SELECTED DATE RANGE')\n",
        "print('------------------------------------------------------')\n",
        "print(str(count.getInfo()) + ' image(s)')\n",
        "print(' ')\n",
        "\n",
        "# Display the list of images by date\n",
        "print('DATETIME AVAILABLE')\n",
        "print('------------------')\n",
        "for i in range (0, img_nbr):   # Make a loop listing the date of the images in the filtered collection\n",
        "    image = ee.Image(s2_coll.toList(s2_coll.size()).get(i))\n",
        "    ee_date = ee.Date(image.get('system:time_start'))\n",
        "    print(str(i) + ' = ' + ee_date.format().getInfo())"
      ],
      "metadata": {
        "id": "1QY1cFsNU801"
      },
      "execution_count": null,
      "outputs": []
    },
    {
      "cell_type": "code",
      "source": [
        "# 4. Select two images and display them on the map\n",
        "# -------------------------------------------------\n",
        "\n",
        "# Select and load the images\n",
        "image1 = ee.Image(s2_coll.toList(s2_coll.size()).get(0))\n",
        "image2 = ee.Image(s2_coll.toList(s2_coll.size()).get(140))\n",
        "\n",
        "# Define the visualisation parameters\n",
        "visParams = {'bands': ['B12', 'B11', 'B8A'], 'min': -150, 'max': 4000}\n",
        "\n",
        "# Create the map and add the selected images\n",
        "Map = geemap.Map()                             # Load the map\n",
        "Map.setCenter(locx, locy, 12)                  # Center the map and select the zoom\n",
        "Map.addLayer(image1.clip(roi), visParams)      # Add Image 1 to the map\n",
        "Map.addLayer(image2.clip(roi), visParams)      # Add Image 2 to the map\n",
        "\n",
        "Map"
      ],
      "metadata": {
        "id": "QRWfSYcpV-VZ"
      },
      "execution_count": null,
      "outputs": []
    },
    {
      "cell_type": "markdown",
      "source": [
        "Let's tune a little bit the display here by adding more options:"
      ],
      "metadata": {
        "id": "hHRDj_kQYVi0"
      }
    },
    {
      "cell_type": "code",
      "source": [
        "# Create various rgb-compositions\n",
        "visible = ['B4', 'B3', 'B2']\n",
        "vnir = ['B8', 'B4', 'B3']\n",
        "swir = ['B12', 'B11', 'B8A']\n",
        "\n",
        "# Select the basemap in the background ('ROADMAP', 'SATELLITE', 'TERRAIN', 'HYBRID', 'OpenStreetMap')\n",
        "Map = geemap.Map(basemap='TERRAIN', center=[locy, locx], zoom=14)   # !Note locx and locy are inverted here!\n",
        "\n",
        "visParams = {'bands': vnir, 'min': -150, 'max': 4000}\n",
        "\n",
        "Map.addLayer(image1.clip(roi), visParams, 'S2_VNIR_2021-01-04')      # Add Image 1 to the map, with its name specified\n",
        "Map.addLayer(image2.clip(roi), visParams, 'S2_VNIR_2021-12-30')     # Add Image 2 to the map, with its name specified\n",
        "\n",
        "Map"
      ],
      "metadata": {
        "id": "kAeXjJ3UYWLX"
      },
      "execution_count": null,
      "outputs": []
    },
    {
      "cell_type": "markdown",
      "source": [
        "### Sentinel-2 image export"
      ],
      "metadata": {
        "id": "vkTF3-BuZHjG"
      }
    },
    {
      "cell_type": "code",
      "source": [
        "# Select the spectral bands for each image and crop to only cover the ROI\n",
        "band_selection = ['B8', 'B4', 'B3']\n",
        "S2_image_1 = image1.select(band_selection).clip(roi)\n",
        "S2_image_2 = image2.select(band_selection).clip(roi)\n",
        "\n",
        "# Export arguments\n",
        "export_folder = '__RSE_colab_data'    # just direct folders (no subfolders)\n",
        "fileNamePrefix1 = 'S2_VNIR_20210104'  # Name for export image 1\n",
        "fileNamePrefix2 = 'S2_VNIR_20211230'  # Name for export image 2\n",
        "description1 = 'Selected_S2_image_1'  # Export task description for image 1\n",
        "description2 = 'Selected_S2_image_2'  # Export task description for image 2\n",
        "pixel_size = 10;                      # in metres\n",
        "chosen_crs = 'EPSG:32718'             # Projected Coordinate System (WGS84 UTM 18 South)\n",
        "file_Format = 'GeoTIFF'\n",
        "\n",
        "# Export the two images\n",
        "geemap.ee_export_image_to_drive(S2_image_1, description=description1, folder=export_folder, fileNamePrefix=fileNamePrefix1, scale=pixel_size, crs=chosen_crs, fileFormat=file_Format)\n",
        "geemap.ee_export_image_to_drive(S2_image_2, description=description2, folder=export_folder, fileNamePrefix=fileNamePrefix2, scale=pixel_size, crs=chosen_crs, fileFormat=file_Format)"
      ],
      "metadata": {
        "id": "SOHg24kDYbAC"
      },
      "execution_count": null,
      "outputs": []
    },
    {
      "cell_type": "markdown",
      "source": [
        "--------------"
      ],
      "metadata": {
        "id": "7AquErB9wam4"
      }
    },
    {
      "cell_type": "markdown",
      "source": [
        "## PART 2 — Digital Image Correlation (DIC) with AROSICS\n",
        "\n",
        "In this part, we will use the downloaded images and AROSICS, a tool initially designed for image co-registration, to perform DIC.  \n",
        "\n",
        "#### 2.1. (Down)loading the packages and the images"
      ],
      "metadata": {
        "id": "83_b2csdweFT"
      }
    },
    {
      "cell_type": "code",
      "source": [
        "# Install the missing packages\n",
        "\n",
        "!pip install arosics\n",
        "!pip install rasterio"
      ],
      "metadata": {
        "id": "jH2Sp1lXxHpD"
      },
      "execution_count": null,
      "outputs": []
    },
    {
      "cell_type": "code",
      "source": [
        "# Import packages\n",
        "\n",
        "from arosics import COREG_LOCAL\n",
        "import pandas as pd\n",
        "import datetime\n",
        "from google.colab import drive\n",
        "\n",
        "# Mount Google Drive and specify the image paths\n",
        "\n",
        "drive.mount('/content/gdrive')\n",
        "\n",
        "ref = 'gdrive/MyDrive/__RSE_colab_data/Lecture_04/S2_VNIR_20210104.tif'\n",
        "target = 'gdrive/MyDrive/__RSE_colab_data/Lecture_04/S2_VNIR_20211230.tif'"
      ],
      "metadata": {
        "id": "ieKQDX7gxdDI"
      },
      "execution_count": null,
      "outputs": []
    },
    {
      "cell_type": "markdown",
      "source": [
        "#### 2.2. Setup the image correlation"
      ],
      "metadata": {
        "id": "qDDSZ1ts2Jub"
      }
    },
    {
      "cell_type": "code",
      "source": [
        "# =============================================================================\n",
        "# =============================   SETUP SECTION   =============================\n",
        "# =============================================================================\n",
        "\n",
        "im_reference= ref\n",
        "im_target = target\n",
        "\n",
        "grid_resolution = 3   # resolution of the grid of spatial shifts\n",
        "win_size = (20, 20)  # size of the moving window\n",
        "max_shift=100 # Max allowed shift between target and ref images (in m)\n",
        "out_format= 'GTiff' # Output format\n",
        "\n",
        "# ============================================================================="
      ],
      "metadata": {
        "id": "YAJc-QoazHi3"
      },
      "execution_count": null,
      "outputs": []
    },
    {
      "cell_type": "markdown",
      "source": [
        "#### 2.3. Perform the image correlation and export results in a CSV file"
      ],
      "metadata": {
        "id": "6O9TztG42QbV"
      }
    },
    {
      "cell_type": "code",
      "source": [
        "# =============================================================================\n",
        "# ============================   AROSICS SECTION   ============================\n",
        "# =============================================================================\n",
        "\n",
        "### CALCULATE AND APPLY LOCAL CO-REGISTRATION ###\n",
        "\n",
        "  # Print basic info\n",
        "\n",
        "print('============================================================')\n",
        "print('===        Digital Image Correlation with AROSICS        ===')\n",
        "print('============================================================')\n",
        "print(' ')\n",
        "print('Reference image: ' + str(ref))\n",
        "print('Target image: ' + str(target))\n",
        "print(' ')\n",
        "\n",
        "  # Set the parameters of the local coregistration\n",
        "kwargs = {\n",
        "    'grid_res' : grid_resolution,\n",
        "    'window_size' : win_size,\n",
        "    'path_out' : im_target[:-4] + '_local_coreg.tif',\n",
        "    'fmt_out' : out_format,\n",
        "    'max_shift' : max_shift,\n",
        "}\n",
        "\n",
        "  # Create the local co-registration variable\n",
        "print (' ')\n",
        "print(' ### CALCULATE SHIFT ### ')\n",
        "print('--> Start time: ' + str(datetime.datetime.now()))\n",
        "print(' ')\n",
        "CRL = COREG_LOCAL(im_reference, im_target,**kwargs)\n",
        "print(' ')\n",
        "print('--> Stop time: ' + str(datetime.datetime.now()))\n",
        "print('#########################')\n",
        "\n",
        "\n",
        "  # Apply local shifts to target image\n",
        "# CRL.correct_shifts()\n",
        "\n",
        "### SAVING SHIFT TABLE IN CSV FORMAT ###\n",
        "\n",
        "  # CSV\n",
        "print(' ')\n",
        "print(' ### SAVING SHIFT POINTS IN A CSV FILE ### ')\n",
        "print('--> Start time: ' + str(datetime.datetime.now()))\n",
        "table_out = im_target[:-4] + '_CRL_shift_table.csv'\n",
        "pd.DataFrame(CRL.CoRegPoints_table).to_csv(table_out, sep='\\t')\n",
        "print(' ')\n",
        "print('--> Shift points saved in CSV file')\n",
        "print('--> Stop time: ' + str(datetime.datetime.now()))\n",
        "\n",
        "print(' ')\n",
        "print('=====================================')\n",
        "print(' PROCESSING STEPS ENDED SUCCESSFULLY ')\n",
        "print('=====================================')"
      ],
      "metadata": {
        "id": "J-VtEzsqz2Zn"
      },
      "execution_count": null,
      "outputs": []
    },
    {
      "cell_type": "markdown",
      "source": [
        "#### 2.4. Plot the results\n",
        "\n",
        "Please, adapt the setup section accordingly!"
      ],
      "metadata": {
        "id": "vrHf3t6m2ZSd"
      }
    },
    {
      "cell_type": "code",
      "source": [
        "import rasterio\n",
        "from rasterio.plot import show\n",
        "import pandas as pd\n",
        "import geopandas as gpd\n",
        "import matplotlib.pyplot as plt\n",
        "plt.close('all')\n",
        "\n",
        "# SETUP SECTION\n",
        "# --------------\n",
        "\n",
        "# Provide the working directory with '/' at the end\n",
        "work_path = 'gdrive/MyDrive/__RSE_colab_data/Lecture_04/'\n",
        "\n",
        "# Provide the name of the csv file\n",
        "csv_name = 'S2_VNIR_20211230_CRL_shift_table.csv'\n",
        "\n",
        "# Provide the name of the background image\n",
        "bg_image = 'S2_VNIR_20210104.tif'\n",
        "\n",
        "# Choose point size in the figure (suggested: 2 to 5)\n",
        "point_size = 2\n",
        "\n",
        "# Stretch or not the colorscale of the points\n",
        "stretch = 'yes'   # Select 'yes' or 'no'\n",
        "cmin = 0\n",
        "cmax = 20\n",
        "\n",
        "# Projected coordinate system\n",
        "selected_crs = 'EPSG:32718'\n",
        "\n",
        "# Display or save the figure\n",
        "display = 'show'   # Select 'show' or 'save'\n",
        "\n",
        "# If 'save' option is selected, choose the figure name with extension\n",
        "figname = 'shift_plot_SCATTER.png'\n",
        "\n",
        "\n",
        "# PLOTTING SECTION\n",
        "# -----------------\n",
        "\n",
        "# Load the background image\n",
        "\n",
        "raster = rasterio.open(f'{work_path}{bg_image}', crs=selected_crs)\n",
        "\n",
        "# Load the CSV file, remove NaN values, and create a geotable\n",
        "\n",
        "raw_table = pd.read_csv(f'{work_path}{csv_name}', sep='\\t')\n",
        "\n",
        "NaN_value = -9999.0\n",
        "vector_table = raw_table.loc[raw_table['X_SHIFT_M']>NaN_value].copy()\n",
        "\n",
        "geotable = gpd.GeoDataFrame(vector_table, geometry=gpd.points_from_xy(vector_table.X_MAP, vector_table.Y_MAP))\n",
        "geotable.crs = selected_crs\n",
        "\n",
        "# Vector variables\n",
        "X = geotable['X_MAP']      # X coordinate\n",
        "Y = geotable['Y_MAP']      # Y coordinate\n",
        "C = geotable['ABS_SHIFT']  # Absolute shift value (for the colormapping)\n",
        "\n",
        "# Colormaps\n",
        "vector_cmap = 'viridis'\n",
        "raster_cmap = 'Greys_r'   # The '_r' reverse the colormap\n",
        "\n",
        "# Plotting\n",
        "\n",
        "fig, ax = plt.subplots()\n",
        "show((raster, 1), cmap=raster_cmap, ax=ax, alpha=0.5)\n",
        "if stretch in ['yes', 'Yes', 'y', 'Y']:\n",
        "    q = ax.scatter(X, Y, s=point_size, c=C, cmap=vector_cmap, vmin=cmin, vmax=cmax)\n",
        "else:\n",
        "    q = ax.scatter(X, Y, s=point_size, c=C, cmap=vector_cmap)\n",
        "\n",
        "plt.title('Absolute shift (m)', fontweight='bold')\n",
        "plt.xlabel('Easting (m)', fontweight='bold')\n",
        "plt.ylabel('Northing (m)', fontweight='bold')\n",
        "plt.colorbar(q)     # Add the colorbar to the right\n",
        "plt.axis('equal')   # Ensure that X and Y scales are equals\n",
        "plt.tight_layout()  # Ensure that everything is within the figure\n",
        "\n",
        "if display == 'show':\n",
        "    plt.show()\n",
        "elif display == 'save':\n",
        "    plt.savefig(f'{work_path}{figname}', dpi=600)"
      ],
      "metadata": {
        "id": "uu2g_Ftr2f0o"
      },
      "execution_count": null,
      "outputs": []
    }
  ]
}